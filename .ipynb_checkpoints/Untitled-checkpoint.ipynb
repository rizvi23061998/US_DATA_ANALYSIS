{
 "cells": [
  {
   "cell_type": "code",
   "execution_count": 2,
   "metadata": {},
   "outputs": [],
   "source": [
    "import pandas as pd\n",
    "import numpy as np\n"
   ]
  },
  {
   "cell_type": "code",
   "execution_count": 124,
   "metadata": {},
   "outputs": [
    {
     "name": "stdout",
     "output_type": "stream",
     "text": [
      "         WHITE     BLACK  AMERI_ES     ASIAN   HAWN_PI  HISPANIC     OTHER  \\\n",
      "0     0.767062  0.172600  0.004153  0.008484  0.000573  0.023448  0.008341   \n",
      "1     0.699504  0.076624  0.005447  0.006039  0.000399  0.035801  0.016265   \n",
      "2     0.533906  0.521551  0.004618  0.004334  0.001175  0.056186  0.036215   \n",
      "3     0.776145  0.225373  0.002858  0.000982  0.000581  0.018130  0.008261   \n",
      "4     0.917719  0.013160  0.005309  0.002023  0.000657  0.079999  0.040587   \n",
      "...        ...       ...       ...       ...       ...       ...       ...   \n",
      "3135  0.915098  0.010344  0.009990  0.007935  0.000992  0.157972  0.066103   \n",
      "3136  0.802122  0.002088  0.004731  0.010015  0.000639  0.135996  0.073091   \n",
      "3137  0.964798  0.002719  0.008306  0.003016  0.001780  0.091714  0.042520   \n",
      "3138  0.998719  0.002819  0.011915  0.006150  0.000128  0.148879  0.047790   \n",
      "3139  0.993937  0.003032  0.013137  0.002887  0.000433  0.031182  0.009672   \n",
      "\n",
      "      MULT_RACE     MALES   FEMALES  ...  HSE_UNITS    VACANT  OWNER_OCC  \\\n",
      "0      0.015554  0.475559  0.501208  ...   0.396195  0.034259   0.272924   \n",
      "1      0.012198  0.399563  0.416912  ...   0.466152  0.138335   0.237737   \n",
      "2      0.010451  0.590456  0.521794  ...   0.479178  0.081382   0.265576   \n",
      "3      0.009065  0.549299  0.473966  ...   0.401045  0.045905   0.268420   \n",
      "4      0.011829  0.490471  0.500813  ...   0.413084  0.039930   0.300626   \n",
      "...         ...       ...       ...  ...        ...       ...        ...   \n",
      "3135   0.024089  0.539617  0.494934  ...   0.442458  0.053374   0.280377   \n",
      "3136   0.014831  0.476943  0.430574  ...   0.546071  0.163655   0.216630   \n",
      "3137   0.020963  0.527143  0.516958  ...   0.430782  0.051666   0.284733   \n",
      "3138   0.025753  0.545163  0.548110  ...   0.491095  0.043690   0.327995   \n",
      "3139   0.017468  0.547134  0.493431  ...   0.510033  0.073914   0.339108   \n",
      "\n",
      "      RENTER_OCC  NO_FARMS12  Prevalence of obesity  Hypertension  Diabetes  \\\n",
      "0       0.089012    0.006963               0.242317      0.001234  0.080492   \n",
      "1       0.090080    0.004430               0.218797      0.000763  0.075365   \n",
      "2       0.132221    0.023131               0.334319      0.001044  0.141173   \n",
      "3       0.086720    0.008440               0.293204      0.000746  0.113200   \n",
      "4       0.072528    0.021461               0.250804      0.000463  0.126033   \n",
      "...          ...         ...                    ...           ...       ...   \n",
      "3135    0.108707    0.006022               0.220036      0.001116  0.065111   \n",
      "3136    0.165786    0.006563               0.097937           NaN  0.017346   \n",
      "3137    0.094383    0.015574               0.249283      0.000590  0.078562   \n",
      "3138    0.119411    0.026778               0.222806      0.000820  0.090070   \n",
      "3139    0.097012    0.038112               0.263751      0.001251  0.070882   \n",
      "\n",
      "           CVD  HIV/AIDS  \n",
      "0     0.002754  0.001933  \n",
      "1     0.002037  0.001366  \n",
      "2     0.003464  0.003727  \n",
      "3     0.003251  0.001742  \n",
      "4     0.002832  0.000847  \n",
      "...        ...       ...  \n",
      "3135  0.002641  0.000401  \n",
      "3136  0.000928  0.000469  \n",
      "3137  0.002382       NaN  \n",
      "3138  0.001858  0.000000  \n",
      "3139  0.002209       NaN  \n",
      "\n",
      "[3140 rows x 40 columns]\n"
     ]
    }
   ],
   "source": [
    "df = pd.read_csv(\"US-Data-Edited/aggregate-county_all.csv\")\n",
    "df2 = pd.read_csv(\"US-Data-Edited/covid_usa.csv\")\n",
    "\n",
    "demographic_cols = ['POP13_SQMI', 'WHITE', 'BLACK', 'AMERI_ES', 'ASIAN',\n",
    "       'HAWN_PI', 'HISPANIC', 'OTHER', 'MULT_RACE', 'MALES', 'FEMALES',\n",
    "       'AGE_UNDER5', 'AGE_5_9', 'AGE_10_14', 'AGE_15_19', 'AGE_20_24',\n",
    "       'AGE_25_34', 'AGE_35_44', 'AGE_45_54', 'AGE_55_64', 'AGE_65_74',\n",
    "       'AGE_75_84', 'AGE_85_UP','HOUSEHOLDS', 'AVE_HH_SZ', 'HSEHLD_1_M', 'HSEHLD_1_F', 'MARHH_CHD',\n",
    "       'MARHH_NO_C', 'MHH_CHILD', 'FHH_CHILD', 'FAMILIES', 'AVE_FAM_SZ',\n",
    "       'HSE_UNITS', 'VACANT', 'OWNER_OCC', 'RENTER_OCC', 'NO_FARMS12',\n",
    "       'AVE_SIZE12', 'CROP_ACR12', 'AVE_SALE12']\n",
    "comorbidities_cols = ['Prevalence of obesity','Hypertension', 'Diabetes','CVD','HIV/AIDS']\n",
    "climate_cols = ['IECC Climate Zone', 'IECC Moisture Regime','BA Climate Zone']\n",
    "index_cols = ['FIPS', 'STATE_FIPS']\n",
    "covid_cols = ['population','covid_cases','covid_deaths']\n",
    "\n",
    "cols_to_normalize = ['WHITE', 'BLACK', 'AMERI_ES', 'ASIAN',\n",
    "       'HAWN_PI', 'HISPANIC', 'OTHER', 'MULT_RACE', 'MALES', 'FEMALES',\n",
    "       'AGE_UNDER5', 'AGE_5_9', 'AGE_10_14', 'AGE_15_19', 'AGE_20_24',\n",
    "       'AGE_25_34', 'AGE_35_44', 'AGE_45_54', 'AGE_55_64', 'AGE_65_74',\n",
    "       'AGE_75_84', 'AGE_85_UP','HOUSEHOLDS', 'HSEHLD_1_M', 'HSEHLD_1_F', 'MARHH_CHD',\n",
    "       'MARHH_NO_C', 'MHH_CHILD', 'FHH_CHILD', 'FAMILIES',\n",
    "       'HSE_UNITS', 'VACANT', 'OWNER_OCC', 'RENTER_OCC', 'NO_FARMS12']+comorbidities_cols\n",
    "\n",
    "cols_for_analysis = index_cols + covid_cols + demographic_cols\n",
    "cols_to_replace_missing = demographic_cols+comorbidities_cols\n",
    "\n",
    "merged_df = df.merge(df2,on=index_cols)\n",
    "merged_df.reset_index(inplace=True,drop=True)\n",
    "\n",
    "\n",
    "for each_col in cols_to_replace_missing: \n",
    "    merged_df.loc[merged_df[each_col]<0,each_col] = np.nan\n",
    "    \n",
    "\n",
    "# print('khkhh=============================================')\n",
    "\n",
    "\n",
    "print(merged_df[cols_to_normalize].div(merged_df['population'],axis=0))\n",
    "\n",
    "# demographic_cols+comorbidities_cols+climate_cols\n",
    "# np.size(df[index_cols[0]].unique())"
   ]
  },
  {
   "cell_type": "code",
   "execution_count": 69,
   "metadata": {},
   "outputs": [
    {
     "name": "stdout",
     "output_type": "stream",
     "text": [
      "[ 0  0  0  0  0  0  0  0  0  0  0  0  0  0  0  0  0  0  0  0  0  0  0  0\n",
      "  0  0  0  0  0  0  0  0  0  0  0  0  0 63 63 63 63]\n",
      "['POP13_SQMI', 'WHITE', 'BLACK', 'AMERI_ES', 'ASIAN', 'HAWN_PI', 'HISPANIC', 'OTHER', 'MULT_RACE', 'MALES', 'FEMALES', 'AGE_UNDER5', 'AGE_5_9', 'AGE_10_14', 'AGE_15_19', 'AGE_20_24', 'AGE_25_34', 'AGE_35_44', 'AGE_45_54', 'AGE_55_64', 'AGE_65_74', 'AGE_75_84', 'AGE_85_UP', 'HOUSEHOLDS', 'AVE_HH_SZ', 'HSEHLD_1_M', 'HSEHLD_1_F', 'MARHH_CHD', 'MARHH_NO_C', 'MHH_CHILD', 'FHH_CHILD', 'FAMILIES', 'AVE_FAM_SZ', 'HSE_UNITS', 'VACANT', 'OWNER_OCC', 'RENTER_OCC', 'NO_FARMS12', 'AVE_SIZE12', 'CROP_ACR12', 'AVE_SALE12']\n"
     ]
    }
   ],
   "source": [
    "import matplotlib.pyplot as plt\n",
    "\n",
    "# plt.boxplot(merged_df['CVD'])\n",
    "# plt.show()\n",
    "merged_df['Diabetes'].describe()\n",
    "# merged_df[merged_df['Diabetes'] < 0]['Diabetes'].count()\n",
    "print(merged_df[merged_df[demographic_cols] < 0][demographic_cols].count().to_numpy())\n",
    "print(demographic_cols)"
   ]
  }
 ],
 "metadata": {
  "kernelspec": {
   "display_name": "Python 3",
   "language": "python",
   "name": "python3"
  },
  "language_info": {
   "codemirror_mode": {
    "name": "ipython",
    "version": 3
   },
   "file_extension": ".py",
   "mimetype": "text/x-python",
   "name": "python",
   "nbconvert_exporter": "python",
   "pygments_lexer": "ipython3",
   "version": "3.7.4"
  }
 },
 "nbformat": 4,
 "nbformat_minor": 2
}
